{
 "cells": [
  {
   "cell_type": "code",
   "execution_count": 3,
   "id": "3da1b6bb-1444-4300-85af-d77aab969ed8",
   "metadata": {},
   "outputs": [],
   "source": [
    "    def bfs(d):\n",
    "\n",
    "        dist[s] = [0, 0]\n",
    "        queue = []\n",
    "        queue.append(s)\n",
    "        while queue:\n",
    "            u = queue.pop(0)\n",
    "            for v in range(8):\n",
    "                move = u + movelist[v][0]*n + movelist[v][1]\n",
    "                if move in range(len(dist)) and dist[move][1] == 0:\n",
    "                    position = u + movelist[v][0]*n + movelist[v][1]\n",
    "                    if dist[position][0] == BIG_NUM:\n",
    "                        dist[position][0] = dist[u][0] + 1\n",
    "                        queue.append(position)\n",
    "                        bfs(position)\n",
    "\n",
    "        return dist[d][0]"
   ]
  },
  {
   "cell_type": "code",
   "execution_count": null,
   "id": "f75a8ed2-756d-441c-a157-ce67412bc555",
   "metadata": {},
   "outputs": [],
   "source": [
    "# для заданных значений\n",
    "'''n = int(input('Enter the number N of the rows and columns: '))\n",
    "start_row, start_col = list(map(int, input('Enter the starting position: ').split()))\n",
    "dest_row, dest_col = list(map(int, input('Enter the destination: ').split()))'''"
   ]
  },
  {
   "cell_type": "code",
   "execution_count": 5,
   "id": "768c5231-68f3-4b08-9fbb-124bc2d22255",
   "metadata": {},
   "outputs": [],
   "source": [
    "№мои значенияn = 8\n",
    "start_row, start_col, dest_row, dest_col = 1, 1, 8, 8"
   ]
  },
  {
   "cell_type": "code",
   "execution_count": 6,
   "id": "542b8972-aae8-47e6-bcd4-a8f50a695bc9",
   "metadata": {},
   "outputs": [],
   "source": [
    "BIG_NUM = float('inf')\n",
    "s = (start_row - 1) * (n) + (start_col - 1)\n",
    "d = (dest_row - 1) * n + (dest_col - 1)\n",
    "movelist = [[-2, -1], [-1, -2], [-2, 1], [-1, 2],\n",
    "             [2, -1], [1, -2], [2, 1], [1, 2]]\n",
    "vert_num = n ** 2\n",
    "dist = [[BIG_NUM, 0] for _ in range(vert_num + 1)]"
   ]
  },
  {
   "cell_type": "code",
   "execution_count": 7,
   "id": "288d6649-5cbb-4d53-bea8-db7d9c6999a1",
   "metadata": {},
   "outputs": [
    {
     "name": "stdout",
     "output_type": "stream",
     "text": [
      "5\n"
     ]
    }
   ],
   "source": [
    "print(bfs(d))"
   ]
  }
 ],
 "metadata": {
  "kernelspec": {
   "display_name": "Python 3 (ipykernel)",
   "language": "python",
   "name": "python3"
  },
  "language_info": {
   "codemirror_mode": {
    "name": "ipython",
    "version": 3
   },
   "file_extension": ".py",
   "mimetype": "text/x-python",
   "name": "python",
   "nbconvert_exporter": "python",
   "pygments_lexer": "ipython3",
   "version": "3.10.7"
  }
 },
 "nbformat": 4,
 "nbformat_minor": 5
}

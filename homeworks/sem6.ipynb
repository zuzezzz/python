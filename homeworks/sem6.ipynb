{
 "cells": [
  {
   "cell_type": "markdown",
   "id": "af1635e2-d15f-40d5-a243-5386621a6993",
   "metadata": {},
   "source": [
    "- Алгоритм Флойда"
   ]
  },
  {
   "cell_type": "code",
   "execution_count": 26,
   "id": "df292d11-828e-4601-a429-f49b79948e3e",
   "metadata": {},
   "outputs": [],
   "source": [
    "BIG_NUM = float('inf')\n",
    "edge_list = [[0, 2], \n",
    "             [1, 0], [1, 2],\n",
    "            [2, 3], \n",
    "             [3, 1]]\n",
    "weight_list = [-2, 4, 3, 2, -1]\n",
    "vert_num = 4"
   ]
  },
  {
   "cell_type": "code",
   "execution_count": 27,
   "id": "8666922a-7db3-490f-886c-24dccdb06ae8",
   "metadata": {},
   "outputs": [],
   "source": [
    "def construct_adj_list(edge_list, vert_num):\n",
    "    adj_list = [[] for _ in range(vert_num)]\n",
    "    for edge in edge_list:\n",
    "        src = edge[0]\n",
    "        dest = edge[1]\n",
    "        adj_list[src].append(dest)\n",
    "    return adj_list"
   ]
  },
  {
   "cell_type": "code",
   "execution_count": 28,
   "id": "a7b7cb5f-58cd-4113-962e-f25b3727eba6",
   "metadata": {},
   "outputs": [],
   "source": [
    "def construct_adj_matrix(adj_list, weight_list, vert_num):\n",
    "    adj_matrix = [[BIG_NUM for _ in range(vert_num)]\n",
    "                 for _ in range(vert_num)]\n",
    "    for edge, weight in zip(edge_list, weight_list):\n",
    "        src = edge[0]\n",
    "        dest = edge[1]\n",
    "        adj_matrix[src][dest] = weight\n",
    "\n",
    "    return adj_matrix"
   ]
  },
  {
   "cell_type": "code",
   "execution_count": 31,
   "id": "1259c98f-2802-4452-a86d-f4a9c78247ac",
   "metadata": {
    "scrolled": true
   },
   "outputs": [],
   "source": [
    "adj_list = construct_adj_list(edge_list, vert_num)\n",
    "adj_matrix = construct_adj_matrix(edge_list, weight_list, vert_num)"
   ]
  },
  {
   "cell_type": "code",
   "execution_count": 30,
   "id": "9635cf46-13e5-4736-a09c-f1dcb39e85ef",
   "metadata": {},
   "outputs": [
    {
     "data": {
      "text/plain": [
       "[[0, -1, -2, 0], [4, 0, 2, 4], [5, 1, 0, 2], [3, -1, 1, 0]]"
      ]
     },
     "execution_count": 30,
     "metadata": {},
     "output_type": "execute_result"
    }
   ],
   "source": [
    "def floyd(matrix):\n",
    "    distance = matrix\n",
    "    for i in range(vert_num):\n",
    "        distance[i][i] = 0\n",
    "\n",
    "    for k in range(vert_num):\n",
    "        for i in range(vert_num):\n",
    "            for j in range(vert_num):\n",
    "                distance[i][j] = min(distance[i][j], distance[i][k] + distance[k][j])\n",
    "    return distance\n",
    "\n",
    "floyd(adj_matrix)"
   ]
  },
  {
   "cell_type": "code",
   "execution_count": null,
   "id": "feb48e20-fac8-4638-ac2e-eb8374e3863c",
   "metadata": {},
   "outputs": [],
   "source": []
  }
 ],
 "metadata": {
  "kernelspec": {
   "display_name": "Python 3 (ipykernel)",
   "language": "python",
   "name": "python3"
  },
  "language_info": {
   "codemirror_mode": {
    "name": "ipython",
    "version": 3
   },
   "file_extension": ".py",
   "mimetype": "text/x-python",
   "name": "python",
   "nbconvert_exporter": "python",
   "pygments_lexer": "ipython3",
   "version": "3.10.7"
  }
 },
 "nbformat": 4,
 "nbformat_minor": 5
}
